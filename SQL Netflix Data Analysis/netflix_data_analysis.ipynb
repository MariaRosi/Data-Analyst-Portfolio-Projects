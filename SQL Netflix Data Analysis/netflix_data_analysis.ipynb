{
 "cells": [
  {
   "cell_type": "code",
   "execution_count": 20,
   "id": "9b9a780c-b19d-4e66-b4f1-71533ac70765",
   "metadata": {},
   "outputs": [],
   "source": [
    "import pandas as pd\n",
    "from sqlalchemy import create_engine"
   ]
  },
  {
   "cell_type": "code",
   "execution_count": 23,
   "id": "a02082e9-ee18-4c30-a432-c541bd1b231b",
   "metadata": {},
   "outputs": [],
   "source": [
    "df = pd.read_csv('netflix_titles.csv')\n",
    "\n",
    "# The database URL must be in a specific format\n",
    "db_url = \"mysql+mysqlconnector://{USER}:{PWD}@{HOST}/{DBNAME}\"\n",
    "\n",
    "db_url = db_url.format(\n",
    "    USER = \"root\",\n",
    "    PWD = \"root\",\n",
    "    HOST = \"localhost:3306\",\n",
    "    DBNAME = \"netflix_db\"\n",
    ")\n",
    "\n",
    "# Create the DB engine instance.\n",
    "engine = create_engine(db_url, echo=False)\n",
    "\n",
    "\n",
    "# Use engine.begin() to create database connection.\n",
    "# the connection is automatically closed\n",
    "# after SQL operation is done\n",
    "with engine.begin() as conn:\n",
    "    df.to_sql(\n",
    "        name='netflix_raw', # database table\n",
    "        con=conn, # database connection\n",
    "        index=False, # Don't save index\n",
    "        if_exists='append' # Append if table already exists\n",
    "    )\n"
   ]
  },
  {
   "cell_type": "code",
   "execution_count": null,
   "id": "287381a5-7129-4971-ba96-784638245adb",
   "metadata": {},
   "outputs": [],
   "source": []
  }
 ],
 "metadata": {
  "kernelspec": {
   "display_name": "Python 3 (ipykernel)",
   "language": "python",
   "name": "python3"
  },
  "language_info": {
   "codemirror_mode": {
    "name": "ipython",
    "version": 3
   },
   "file_extension": ".py",
   "mimetype": "text/x-python",
   "name": "python",
   "nbconvert_exporter": "python",
   "pygments_lexer": "ipython3",
   "version": "3.12.3"
  }
 },
 "nbformat": 4,
 "nbformat_minor": 5
}
